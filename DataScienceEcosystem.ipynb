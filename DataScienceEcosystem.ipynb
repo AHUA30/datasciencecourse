{
 "cells": [
  {
   "cell_type": "markdown",
   "id": "4429e6c8-0a82-4473-813e-96970c397983",
   "metadata": {},
   "source": [
    "# Data Science Tools and Ecosystem"
   ]
  },
  {
   "cell_type": "markdown",
   "id": "9a14a6a8-be8a-4da1-9eac-ad3ce0b76926",
   "metadata": {},
   "source": [
    "In this notebook, Data Science Tools and Ecosystem are summarized."
   ]
  },
  {
   "cell_type": "markdown",
   "id": "43aea654-7521-46b7-87fa-17c65d4739ed",
   "metadata": {},
   "source": [
    "Some of the popular languages that Data Scientists use are:\n",
    "1. Python\n",
    "2. JAVA\n",
    "3. HTML"
   ]
  },
  {
   "cell_type": "markdown",
   "id": "b97518fc-ed6e-496f-bf2b-295e2d136be8",
   "metadata": {},
   "source": [
    "Some of the commonly used libraries used by Data Scientists include:\n",
    "1. NumPy\n",
    "2. Pandas\n",
    "3. MatPlotLib"
   ]
  },
  {
   "cell_type": "markdown",
   "id": "3015203e-6f56-408f-9556-adf563ca8386",
   "metadata": {},
   "source": [
    "**Objectives:**\n",
    "- List popular languages for Data Science\n",
    "- List commonly used librarires used by Data Scientists\n",
    "- List three development environment open source tools used in data science "
   ]
  },
  {
   "cell_type": "markdown",
   "id": "c6eb5729-157e-4b8e-8969-8eac21be4072",
   "metadata": {},
   "source": [
    "|Data Science Tools|\n",
    "|------------------|\n",
    "|RStudio|\n",
    "|Apache Spark|\n",
    "|TensorFlow|"
   ]
  },
  {
   "cell_type": "markdown",
   "id": "21e34308-c57d-4282-bb36-54fce78906a1",
   "metadata": {},
   "source": [
    "### Below are a few examples of evaluating arithmetic expressions in Python"
   ]
  },
  {
   "cell_type": "markdown",
   "id": "526eb976-6f6f-447d-8804-5e4a0f52bd8e",
   "metadata": {},
   "source": [
    "This a simple arithmetic expression to mutiply then add integers"
   ]
  },
  {
   "cell_type": "code",
   "execution_count": 7,
   "id": "1d2da350-a710-42cf-8f94-88947aa48156",
   "metadata": {
    "tags": []
   },
   "outputs": [
    {
     "data": {
      "text/plain": [
       "17"
      ]
     },
     "execution_count": 7,
     "metadata": {},
     "output_type": "execute_result"
    }
   ],
   "source": [
    "(3*4)+5"
   ]
  },
  {
   "cell_type": "markdown",
   "id": "f44d0850-a8d3-407d-a35e-5b2d75952ca2",
   "metadata": {},
   "source": [
    "This will convert 200 minutes to hours by diving by 60"
   ]
  },
  {
   "cell_type": "code",
   "execution_count": 8,
   "id": "82b6941a-02c6-4ce1-a6d5-abff6a911983",
   "metadata": {
    "tags": []
   },
   "outputs": [
    {
     "data": {
      "text/plain": [
       "3.3333333333333335"
      ]
     },
     "execution_count": 8,
     "metadata": {},
     "output_type": "execute_result"
    }
   ],
   "source": [
    "200/60"
   ]
  },
  {
   "cell_type": "markdown",
   "id": "177263c2-0ce3-4a77-a456-e97adba6269e",
   "metadata": {},
   "source": [
    "## Author\n",
    "Alexander Hua"
   ]
  }
 ],
 "metadata": {
  "kernelspec": {
   "display_name": "Python",
   "language": "python",
   "name": "conda-env-python-py"
  },
  "language_info": {
   "codemirror_mode": {
    "name": "ipython",
    "version": 3
   },
   "file_extension": ".py",
   "mimetype": "text/x-python",
   "name": "python",
   "nbconvert_exporter": "python",
   "pygments_lexer": "ipython3",
   "version": "3.7.12"
  }
 },
 "nbformat": 4,
 "nbformat_minor": 5
}
